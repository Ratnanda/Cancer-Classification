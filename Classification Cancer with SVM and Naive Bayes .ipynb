{
 "cells": [
  {
   "cell_type": "markdown",
   "metadata": {},
   "source": [
    "# Comparing Performance Classification Cancer with SVM and Naive Bayes "
   ]
  },
  {
   "cell_type": "code",
   "execution_count": 1,
   "metadata": {
    "id": "rN3zNg2QWIll"
   },
   "outputs": [],
   "source": [
    "import pandas as pd\n",
    "import numpy as np"
   ]
  },
  {
   "cell_type": "code",
   "execution_count": 2,
   "metadata": {
    "id": "OIJJdcJ4aSTV"
   },
   "outputs": [
    {
     "name": "stderr",
     "output_type": "stream",
     "text": [
      "C:\\Users\\ASUS\\Anaconda3\\lib\\site-packages\\sklearn\\linear_model\\least_angle.py:35: DeprecationWarning: `np.float` is a deprecated alias for the builtin `float`. To silence this warning, use `float` by itself. Doing this will not modify any behavior and is safe. If you specifically wanted the numpy scalar type, use `np.float64` here.\n",
      "Deprecated in NumPy 1.20; for more details and guidance: https://numpy.org/devdocs/release/1.20.0-notes.html#deprecations\n",
      "  eps=np.finfo(np.float).eps,\n",
      "C:\\Users\\ASUS\\Anaconda3\\lib\\site-packages\\sklearn\\linear_model\\least_angle.py:597: DeprecationWarning: `np.float` is a deprecated alias for the builtin `float`. To silence this warning, use `float` by itself. Doing this will not modify any behavior and is safe. If you specifically wanted the numpy scalar type, use `np.float64` here.\n",
      "Deprecated in NumPy 1.20; for more details and guidance: https://numpy.org/devdocs/release/1.20.0-notes.html#deprecations\n",
      "  eps=np.finfo(np.float).eps, copy_X=True, fit_path=True,\n",
      "C:\\Users\\ASUS\\Anaconda3\\lib\\site-packages\\sklearn\\linear_model\\least_angle.py:836: DeprecationWarning: `np.float` is a deprecated alias for the builtin `float`. To silence this warning, use `float` by itself. Doing this will not modify any behavior and is safe. If you specifically wanted the numpy scalar type, use `np.float64` here.\n",
      "Deprecated in NumPy 1.20; for more details and guidance: https://numpy.org/devdocs/release/1.20.0-notes.html#deprecations\n",
      "  eps=np.finfo(np.float).eps, copy_X=True, fit_path=True,\n",
      "C:\\Users\\ASUS\\Anaconda3\\lib\\site-packages\\sklearn\\linear_model\\least_angle.py:862: DeprecationWarning: `np.float` is a deprecated alias for the builtin `float`. To silence this warning, use `float` by itself. Doing this will not modify any behavior and is safe. If you specifically wanted the numpy scalar type, use `np.float64` here.\n",
      "Deprecated in NumPy 1.20; for more details and guidance: https://numpy.org/devdocs/release/1.20.0-notes.html#deprecations\n",
      "  eps=np.finfo(np.float).eps, positive=False):\n",
      "C:\\Users\\ASUS\\Anaconda3\\lib\\site-packages\\sklearn\\linear_model\\least_angle.py:1074: DeprecationWarning: `np.float` is a deprecated alias for the builtin `float`. To silence this warning, use `float` by itself. Doing this will not modify any behavior and is safe. If you specifically wanted the numpy scalar type, use `np.float64` here.\n",
      "Deprecated in NumPy 1.20; for more details and guidance: https://numpy.org/devdocs/release/1.20.0-notes.html#deprecations\n",
      "  max_n_alphas=1000, n_jobs=1, eps=np.finfo(np.float).eps,\n",
      "C:\\Users\\ASUS\\Anaconda3\\lib\\site-packages\\sklearn\\linear_model\\least_angle.py:1306: DeprecationWarning: `np.float` is a deprecated alias for the builtin `float`. To silence this warning, use `float` by itself. Doing this will not modify any behavior and is safe. If you specifically wanted the numpy scalar type, use `np.float64` here.\n",
      "Deprecated in NumPy 1.20; for more details and guidance: https://numpy.org/devdocs/release/1.20.0-notes.html#deprecations\n",
      "  max_n_alphas=1000, n_jobs=1, eps=np.finfo(np.float).eps,\n",
      "C:\\Users\\ASUS\\Anaconda3\\lib\\site-packages\\sklearn\\linear_model\\least_angle.py:1442: DeprecationWarning: `np.float` is a deprecated alias for the builtin `float`. To silence this warning, use `float` by itself. Doing this will not modify any behavior and is safe. If you specifically wanted the numpy scalar type, use `np.float64` here.\n",
      "Deprecated in NumPy 1.20; for more details and guidance: https://numpy.org/devdocs/release/1.20.0-notes.html#deprecations\n",
      "  eps=np.finfo(np.float).eps, copy_X=True, positive=False):\n",
      "C:\\Users\\ASUS\\Anaconda3\\lib\\site-packages\\sklearn\\linear_model\\randomized_l1.py:152: DeprecationWarning: `np.float` is a deprecated alias for the builtin `float`. To silence this warning, use `float` by itself. Doing this will not modify any behavior and is safe. If you specifically wanted the numpy scalar type, use `np.float64` here.\n",
      "Deprecated in NumPy 1.20; for more details and guidance: https://numpy.org/devdocs/release/1.20.0-notes.html#deprecations\n",
      "  precompute=False, eps=np.finfo(np.float).eps,\n",
      "C:\\Users\\ASUS\\Anaconda3\\lib\\site-packages\\sklearn\\linear_model\\randomized_l1.py:318: DeprecationWarning: `np.float` is a deprecated alias for the builtin `float`. To silence this warning, use `float` by itself. Doing this will not modify any behavior and is safe. If you specifically wanted the numpy scalar type, use `np.float64` here.\n",
      "Deprecated in NumPy 1.20; for more details and guidance: https://numpy.org/devdocs/release/1.20.0-notes.html#deprecations\n",
      "  eps=np.finfo(np.float).eps, random_state=None,\n",
      "C:\\Users\\ASUS\\Anaconda3\\lib\\site-packages\\sklearn\\linear_model\\randomized_l1.py:575: DeprecationWarning: `np.float` is a deprecated alias for the builtin `float`. To silence this warning, use `float` by itself. Doing this will not modify any behavior and is safe. If you specifically wanted the numpy scalar type, use `np.float64` here.\n",
      "Deprecated in NumPy 1.20; for more details and guidance: https://numpy.org/devdocs/release/1.20.0-notes.html#deprecations\n",
      "  eps=4 * np.finfo(np.float).eps, n_jobs=1,\n"
     ]
    }
   ],
   "source": [
    "from sklearn.preprocessing import LabelEncoder\n",
    "from sklearn.model_selection import train_test_split\n",
    "from sklearn import svm"
   ]
  },
  {
   "cell_type": "code",
   "execution_count": 3,
   "metadata": {
    "colab": {
     "base_uri": "https://localhost:8080/",
     "height": 221
    },
    "executionInfo": {
     "elapsed": 364,
     "status": "ok",
     "timestamp": 1621559860506,
     "user": {
      "displayName": "Ratnanda Gita Alfitri C0040221",
      "photoUrl": "https://lh3.googleusercontent.com/a-/AOh14Ghx6iCeDOUSnDuNQ81CxxHgqdImWzSAMZFxyg8R=s64",
      "userId": "16266432029073831329"
     },
     "user_tz": -420
    },
    "id": "3REtY47paJwz",
    "outputId": "0bb5b67b-26d1-4fc4-c42f-c4af36a74b3b"
   },
   "outputs": [
    {
     "data": {
      "text/html": [
       "<div>\n",
       "<style scoped>\n",
       "    .dataframe tbody tr th:only-of-type {\n",
       "        vertical-align: middle;\n",
       "    }\n",
       "\n",
       "    .dataframe tbody tr th {\n",
       "        vertical-align: top;\n",
       "    }\n",
       "\n",
       "    .dataframe thead th {\n",
       "        text-align: right;\n",
       "    }\n",
       "</style>\n",
       "<table border=\"1\" class=\"dataframe\">\n",
       "  <thead>\n",
       "    <tr style=\"text-align: right;\">\n",
       "      <th></th>\n",
       "      <th>Clump Thickness</th>\n",
       "      <th>Uniformity of Cell Size</th>\n",
       "      <th>Uniformity of Cell Shape</th>\n",
       "      <th>Marginal Adhesion</th>\n",
       "      <th>Single Epithelial Cell Size</th>\n",
       "      <th>Bland Chromatin</th>\n",
       "      <th>Normal Nucleoli</th>\n",
       "      <th>Mitoses</th>\n",
       "      <th>Class</th>\n",
       "    </tr>\n",
       "  </thead>\n",
       "  <tbody>\n",
       "    <tr>\n",
       "      <th>0</th>\n",
       "      <td>5</td>\n",
       "      <td>1</td>\n",
       "      <td>1</td>\n",
       "      <td>1</td>\n",
       "      <td>2</td>\n",
       "      <td>3</td>\n",
       "      <td>1</td>\n",
       "      <td>1</td>\n",
       "      <td>2</td>\n",
       "    </tr>\n",
       "    <tr>\n",
       "      <th>1</th>\n",
       "      <td>5</td>\n",
       "      <td>4</td>\n",
       "      <td>4</td>\n",
       "      <td>5</td>\n",
       "      <td>7</td>\n",
       "      <td>3</td>\n",
       "      <td>2</td>\n",
       "      <td>1</td>\n",
       "      <td>2</td>\n",
       "    </tr>\n",
       "    <tr>\n",
       "      <th>2</th>\n",
       "      <td>3</td>\n",
       "      <td>1</td>\n",
       "      <td>1</td>\n",
       "      <td>1</td>\n",
       "      <td>2</td>\n",
       "      <td>3</td>\n",
       "      <td>1</td>\n",
       "      <td>1</td>\n",
       "      <td>2</td>\n",
       "    </tr>\n",
       "    <tr>\n",
       "      <th>3</th>\n",
       "      <td>6</td>\n",
       "      <td>8</td>\n",
       "      <td>8</td>\n",
       "      <td>1</td>\n",
       "      <td>3</td>\n",
       "      <td>3</td>\n",
       "      <td>7</td>\n",
       "      <td>1</td>\n",
       "      <td>2</td>\n",
       "    </tr>\n",
       "    <tr>\n",
       "      <th>4</th>\n",
       "      <td>4</td>\n",
       "      <td>1</td>\n",
       "      <td>1</td>\n",
       "      <td>3</td>\n",
       "      <td>2</td>\n",
       "      <td>3</td>\n",
       "      <td>1</td>\n",
       "      <td>1</td>\n",
       "      <td>2</td>\n",
       "    </tr>\n",
       "  </tbody>\n",
       "</table>\n",
       "</div>"
      ],
      "text/plain": [
       "   Clump Thickness  Uniformity of Cell Size  Uniformity of Cell Shape  \\\n",
       "0                5                        1                         1   \n",
       "1                5                        4                         4   \n",
       "2                3                        1                         1   \n",
       "3                6                        8                         8   \n",
       "4                4                        1                         1   \n",
       "\n",
       "   Marginal Adhesion  Single Epithelial Cell Size  Bland Chromatin  \\\n",
       "0                  1                            2                3   \n",
       "1                  5                            7                3   \n",
       "2                  1                            2                3   \n",
       "3                  1                            3                3   \n",
       "4                  3                            2                3   \n",
       "\n",
       "   Normal Nucleoli  Mitoses  Class  \n",
       "0                1        1      2  \n",
       "1                2        1      2  \n",
       "2                1        1      2  \n",
       "3                7        1      2  \n",
       "4                1        1      2  "
      ]
     },
     "execution_count": 3,
     "metadata": {},
     "output_type": "execute_result"
    }
   ],
   "source": [
    "df = pd.read_csv (\"D:/Code/Data/Data Cancer.csv\")\n",
    "df.head()"
   ]
  },
  {
   "cell_type": "code",
   "execution_count": 6,
   "metadata": {
    "colab": {
     "base_uri": "https://localhost:8080/",
     "height": 221
    },
    "executionInfo": {
     "elapsed": 347,
     "status": "ok",
     "timestamp": 1621559869000,
     "user": {
      "displayName": "Ratnanda Gita Alfitri C0040221",
      "photoUrl": "https://lh3.googleusercontent.com/a-/AOh14Ghx6iCeDOUSnDuNQ81CxxHgqdImWzSAMZFxyg8R=s64",
      "userId": "16266432029073831329"
     },
     "user_tz": -420
    },
    "id": "FliwzYyGWIly",
    "outputId": "7105544f-64ee-4602-d26f-1baf961a6cbb"
   },
   "outputs": [
    {
     "data": {
      "text/html": [
       "<div>\n",
       "<style scoped>\n",
       "    .dataframe tbody tr th:only-of-type {\n",
       "        vertical-align: middle;\n",
       "    }\n",
       "\n",
       "    .dataframe tbody tr th {\n",
       "        vertical-align: top;\n",
       "    }\n",
       "\n",
       "    .dataframe thead th {\n",
       "        text-align: right;\n",
       "    }\n",
       "</style>\n",
       "<table border=\"1\" class=\"dataframe\">\n",
       "  <thead>\n",
       "    <tr style=\"text-align: right;\">\n",
       "      <th></th>\n",
       "      <th>Clump Thickness</th>\n",
       "      <th>Uniformity of Cell Size</th>\n",
       "      <th>Uniformity of Cell Shape</th>\n",
       "      <th>Marginal Adhesion</th>\n",
       "      <th>Single Epithelial Cell Size</th>\n",
       "      <th>Bland Chromatin</th>\n",
       "      <th>Normal Nucleoli</th>\n",
       "      <th>Mitoses</th>\n",
       "      <th>Class</th>\n",
       "    </tr>\n",
       "  </thead>\n",
       "  <tbody>\n",
       "    <tr>\n",
       "      <th>0</th>\n",
       "      <td>5</td>\n",
       "      <td>1</td>\n",
       "      <td>1</td>\n",
       "      <td>1</td>\n",
       "      <td>2</td>\n",
       "      <td>3</td>\n",
       "      <td>1</td>\n",
       "      <td>1</td>\n",
       "      <td>0</td>\n",
       "    </tr>\n",
       "    <tr>\n",
       "      <th>1</th>\n",
       "      <td>5</td>\n",
       "      <td>4</td>\n",
       "      <td>4</td>\n",
       "      <td>5</td>\n",
       "      <td>7</td>\n",
       "      <td>3</td>\n",
       "      <td>2</td>\n",
       "      <td>1</td>\n",
       "      <td>0</td>\n",
       "    </tr>\n",
       "    <tr>\n",
       "      <th>2</th>\n",
       "      <td>3</td>\n",
       "      <td>1</td>\n",
       "      <td>1</td>\n",
       "      <td>1</td>\n",
       "      <td>2</td>\n",
       "      <td>3</td>\n",
       "      <td>1</td>\n",
       "      <td>1</td>\n",
       "      <td>0</td>\n",
       "    </tr>\n",
       "    <tr>\n",
       "      <th>3</th>\n",
       "      <td>6</td>\n",
       "      <td>8</td>\n",
       "      <td>8</td>\n",
       "      <td>1</td>\n",
       "      <td>3</td>\n",
       "      <td>3</td>\n",
       "      <td>7</td>\n",
       "      <td>1</td>\n",
       "      <td>0</td>\n",
       "    </tr>\n",
       "    <tr>\n",
       "      <th>4</th>\n",
       "      <td>4</td>\n",
       "      <td>1</td>\n",
       "      <td>1</td>\n",
       "      <td>3</td>\n",
       "      <td>2</td>\n",
       "      <td>3</td>\n",
       "      <td>1</td>\n",
       "      <td>1</td>\n",
       "      <td>0</td>\n",
       "    </tr>\n",
       "  </tbody>\n",
       "</table>\n",
       "</div>"
      ],
      "text/plain": [
       "   Clump Thickness  Uniformity of Cell Size  Uniformity of Cell Shape  \\\n",
       "0                5                        1                         1   \n",
       "1                5                        4                         4   \n",
       "2                3                        1                         1   \n",
       "3                6                        8                         8   \n",
       "4                4                        1                         1   \n",
       "\n",
       "   Marginal Adhesion  Single Epithelial Cell Size  Bland Chromatin  \\\n",
       "0                  1                            2                3   \n",
       "1                  5                            7                3   \n",
       "2                  1                            2                3   \n",
       "3                  1                            3                3   \n",
       "4                  3                            2                3   \n",
       "\n",
       "   Normal Nucleoli  Mitoses  Class  \n",
       "0                1        1      0  \n",
       "1                2        1      0  \n",
       "2                1        1      0  \n",
       "3                7        1      0  \n",
       "4                1        1      0  "
      ]
     },
     "execution_count": 6,
     "metadata": {},
     "output_type": "execute_result"
    }
   ],
   "source": [
    "LE=LabelEncoder()\n",
    "df.Class=LE.fit_transform(df.Class)\n",
    "df.head()"
   ]
  },
  {
   "cell_type": "code",
   "execution_count": 7,
   "metadata": {
    "colab": {
     "base_uri": "https://localhost:8080/",
     "height": 221
    },
    "executionInfo": {
     "elapsed": 411,
     "status": "ok",
     "timestamp": 1621559873269,
     "user": {
      "displayName": "Ratnanda Gita Alfitri C0040221",
      "photoUrl": "https://lh3.googleusercontent.com/a-/AOh14Ghx6iCeDOUSnDuNQ81CxxHgqdImWzSAMZFxyg8R=s64",
      "userId": "16266432029073831329"
     },
     "user_tz": -420
    },
    "id": "FzE-4iaTI8h8",
    "outputId": "e3ae332a-5a49-405e-c518-95d1545999fd"
   },
   "outputs": [
    {
     "data": {
      "text/html": [
       "<div>\n",
       "<style scoped>\n",
       "    .dataframe tbody tr th:only-of-type {\n",
       "        vertical-align: middle;\n",
       "    }\n",
       "\n",
       "    .dataframe tbody tr th {\n",
       "        vertical-align: top;\n",
       "    }\n",
       "\n",
       "    .dataframe thead th {\n",
       "        text-align: right;\n",
       "    }\n",
       "</style>\n",
       "<table border=\"1\" class=\"dataframe\">\n",
       "  <thead>\n",
       "    <tr style=\"text-align: right;\">\n",
       "      <th></th>\n",
       "      <th>Clump Thickness</th>\n",
       "      <th>Uniformity of Cell Size</th>\n",
       "      <th>Uniformity of Cell Shape</th>\n",
       "      <th>Marginal Adhesion</th>\n",
       "      <th>Single Epithelial Cell Size</th>\n",
       "      <th>Bland Chromatin</th>\n",
       "      <th>Normal Nucleoli</th>\n",
       "      <th>Mitoses</th>\n",
       "      <th>Class</th>\n",
       "    </tr>\n",
       "  </thead>\n",
       "  <tbody>\n",
       "    <tr>\n",
       "      <th>694</th>\n",
       "      <td>3</td>\n",
       "      <td>1</td>\n",
       "      <td>1</td>\n",
       "      <td>1</td>\n",
       "      <td>3</td>\n",
       "      <td>1</td>\n",
       "      <td>1</td>\n",
       "      <td>1</td>\n",
       "      <td>0</td>\n",
       "    </tr>\n",
       "    <tr>\n",
       "      <th>695</th>\n",
       "      <td>2</td>\n",
       "      <td>1</td>\n",
       "      <td>1</td>\n",
       "      <td>1</td>\n",
       "      <td>2</td>\n",
       "      <td>1</td>\n",
       "      <td>1</td>\n",
       "      <td>1</td>\n",
       "      <td>0</td>\n",
       "    </tr>\n",
       "    <tr>\n",
       "      <th>696</th>\n",
       "      <td>5</td>\n",
       "      <td>10</td>\n",
       "      <td>10</td>\n",
       "      <td>3</td>\n",
       "      <td>7</td>\n",
       "      <td>8</td>\n",
       "      <td>10</td>\n",
       "      <td>2</td>\n",
       "      <td>1</td>\n",
       "    </tr>\n",
       "    <tr>\n",
       "      <th>697</th>\n",
       "      <td>4</td>\n",
       "      <td>8</td>\n",
       "      <td>6</td>\n",
       "      <td>4</td>\n",
       "      <td>3</td>\n",
       "      <td>10</td>\n",
       "      <td>6</td>\n",
       "      <td>1</td>\n",
       "      <td>1</td>\n",
       "    </tr>\n",
       "    <tr>\n",
       "      <th>698</th>\n",
       "      <td>4</td>\n",
       "      <td>8</td>\n",
       "      <td>8</td>\n",
       "      <td>5</td>\n",
       "      <td>4</td>\n",
       "      <td>10</td>\n",
       "      <td>4</td>\n",
       "      <td>1</td>\n",
       "      <td>1</td>\n",
       "    </tr>\n",
       "  </tbody>\n",
       "</table>\n",
       "</div>"
      ],
      "text/plain": [
       "     Clump Thickness  Uniformity of Cell Size  Uniformity of Cell Shape  \\\n",
       "694                3                        1                         1   \n",
       "695                2                        1                         1   \n",
       "696                5                       10                        10   \n",
       "697                4                        8                         6   \n",
       "698                4                        8                         8   \n",
       "\n",
       "     Marginal Adhesion  Single Epithelial Cell Size  Bland Chromatin  \\\n",
       "694                  1                            3                1   \n",
       "695                  1                            2                1   \n",
       "696                  3                            7                8   \n",
       "697                  4                            3               10   \n",
       "698                  5                            4               10   \n",
       "\n",
       "     Normal Nucleoli  Mitoses  Class  \n",
       "694                1        1      0  \n",
       "695                1        1      0  \n",
       "696               10        2      1  \n",
       "697                6        1      1  \n",
       "698                4        1      1  "
      ]
     },
     "execution_count": 7,
     "metadata": {},
     "output_type": "execute_result"
    }
   ],
   "source": [
    "df.tail()"
   ]
  },
  {
   "cell_type": "code",
   "execution_count": 8,
   "metadata": {
    "id": "7Byd-DxTWIlz"
   },
   "outputs": [],
   "source": [
    "#Set 70% training and 30% testing\n",
    "x=df.drop(\"Class\",axis=1)\n",
    "y=df.Class\n",
    "x_train,x_test,y_train,y_test=train_test_split(x,y,test_size=0.30,random_state=123)"
   ]
  },
  {
   "cell_type": "code",
   "execution_count": 9,
   "metadata": {
    "id": "X1_5TUbV1lwa"
   },
   "outputs": [
    {
     "name": "stdout",
     "output_type": "stream",
     "text": [
      "     Clump Thickness  Uniformity of Cell Size  Uniformity of Cell Shape  \\\n",
      "34                 3                        1                         2   \n",
      "33                 2                        1                         1   \n",
      "285                8                       10                        10   \n",
      "453                4                        5                         5   \n",
      "295                5                        5                         7   \n",
      "118                1                        1                         1   \n",
      "15                 7                        4                         6   \n",
      "42                 6                       10                        10   \n",
      "514                6                        6                         7   \n",
      "294                1                        1                         1   \n",
      "171                1                        1                         1   \n",
      "174                8                        6                         5   \n",
      "227                8                        9                         9   \n",
      "404                1                        2                         1   \n",
      "263               10                        4                         4   \n",
      "665                1                        1                         1   \n",
      "93                 1                        1                         1   \n",
      "429                2                        1                         1   \n",
      "55                10                        6                         6   \n",
      "506                8                       10                        10   \n",
      "444                5                        1                         1   \n",
      "593                5                        1                         2   \n",
      "509                2                        1                         1   \n",
      "116                8                        3                         3   \n",
      "417                1                        1                         1   \n",
      "268               10                        8                         8   \n",
      "677                5                        1                         1   \n",
      "690                1                        1                         1   \n",
      "652                5                        1                         1   \n",
      "254                9                       10                        10   \n",
      "..               ...                      ...                       ...   \n",
      "39                 2                        5                         3   \n",
      "340               10                        3                         3   \n",
      "2                  3                        1                         1   \n",
      "451                5                        1                         1   \n",
      "68                 8                        3                         8   \n",
      "208                1                        1                         1   \n",
      "608                5                       10                        10   \n",
      "420                3                        2                         2   \n",
      "253                6                       10                        10   \n",
      "339                8                        5                         5   \n",
      "409                3                        1                         2   \n",
      "111                8                        6                         4   \n",
      "224               10                        5                         5   \n",
      "544                2                        1                         3   \n",
      "73                 9                        4                         5   \n",
      "47                 1                        1                         1   \n",
      "638                4                        1                         1   \n",
      "113               10                       10                        10   \n",
      "96                 2                        1                         1   \n",
      "214               10                       10                        10   \n",
      "569               10                       10                         8   \n",
      "123                5                        3                         5   \n",
      "106               10                       10                        10   \n",
      "595                5                        1                         1   \n",
      "17                 4                        1                         1   \n",
      "98                 9                        6                         9   \n",
      "322                3                        1                         1   \n",
      "382                3                        2                         2   \n",
      "365                2                        1                         1   \n",
      "510                1                        1                         1   \n",
      "\n",
      "     Marginal Adhesion  Single Epithelial Cell Size  Bland Chromatin  \\\n",
      "34                   1                            2                2   \n",
      "33                   2                            2                3   \n",
      "285                 10                            8               10   \n",
      "453                  8                            6               10   \n",
      "295                  8                            6                7   \n",
      "118                  1                            4                1   \n",
      "15                   4                            6                4   \n",
      "42                   2                            8                7   \n",
      "514                 10                            3                8   \n",
      "294                  1                            2                2   \n",
      "171                  1                            2                3   \n",
      "174                  4                            3                6   \n",
      "227                  5                            3                7   \n",
      "404                  3                            2                1   \n",
      "263                 10                            6                5   \n",
      "665                  1                            2                1   \n",
      "93                   1                            2                2   \n",
      "429                  1                            2                2   \n",
      "55                   3                            4                3   \n",
      "506                 10                            7                4   \n",
      "444                  6                            3                2   \n",
      "593                  1                            2                1   \n",
      "509                  1                            2                1   \n",
      "116                  1                            2                3   \n",
      "417                  1                            2                2   \n",
      "268                  2                            3                8   \n",
      "677                  1                            2                1   \n",
      "690                  3                            2                1   \n",
      "652                  1                            2                2   \n",
      "254                  1                           10                3   \n",
      "..                 ...                          ...              ...   \n",
      "39                   3                            6                7   \n",
      "340                  1                            2                7   \n",
      "2                    1                            2                3   \n",
      "451                  1                            2                1   \n",
      "68                   3                            4                8   \n",
      "208                  1                            1                3   \n",
      "608                 10                           10               10   \n",
      "420                  3                            2                3   \n",
      "253                  2                            8                7   \n",
      "339                  5                            2                4   \n",
      "409                  1                            2                2   \n",
      "111                  3                            5                3   \n",
      "224                  6                            3                7   \n",
      "544                  2                            2                2   \n",
      "73                  10                            6                4   \n",
      "47                   1                            2                2   \n",
      "638                  1                            2                1   \n",
      "113                  3                           10                8   \n",
      "96                   2                            2                1   \n",
      "214                 10                            3               10   \n",
      "569                 10                            6               10   \n",
      "123                  1                            8                5   \n",
      "106                  8                            2                4   \n",
      "595                  1                            2                2   \n",
      "17                   1                            2                3   \n",
      "98                   2                           10                2   \n",
      "322                  1                            2                3   \n",
      "382                  2                            2                3   \n",
      "365                  1                            2                2   \n",
      "510                  1                            2                1   \n",
      "\n",
      "     Normal Nucleoli  Mitoses  \n",
      "34                 1        1  \n",
      "33                 1        1  \n",
      "285                7        3  \n",
      "453                7        1  \n",
      "295                4        1  \n",
      "118                1        1  \n",
      "15                 3        1  \n",
      "42                 3        3  \n",
      "514               10        2  \n",
      "294                1        1  \n",
      "171                1        1  \n",
      "174                1        1  \n",
      "227                7        1  \n",
      "404                2        1  \n",
      "263                5        1  \n",
      "665                1        1  \n",
      "93                 1        1  \n",
      "429                1        1  \n",
      "55                 6        1  \n",
      "506                8        7  \n",
      "444                1        1  \n",
      "593                1        1  \n",
      "509                1        1  \n",
      "116                2        1  \n",
      "417                1        1  \n",
      "268                7        8  \n",
      "677                1        1  \n",
      "690                1        1  \n",
      "652                2        1  \n",
      "254                3        1  \n",
      "..               ...      ...  \n",
      "39                 5        1  \n",
      "340                6        1  \n",
      "2                  1        1  \n",
      "451                1        1  \n",
      "68                 9        8  \n",
      "208                1        1  \n",
      "608                1        1  \n",
      "420                1        1  \n",
      "253                3        3  \n",
      "339                3        1  \n",
      "409                1        1  \n",
      "111                1        1  \n",
      "224                9        2  \n",
      "544                1        1  \n",
      "73                 8        1  \n",
      "47                 1        1  \n",
      "638                1        1  \n",
      "113                1        1  \n",
      "96                 1        1  \n",
      "214                6        1  \n",
      "569                3        1  \n",
      "123                3        1  \n",
      "106                1        1  \n",
      "595                1        1  \n",
      "17                 1        1  \n",
      "98                 9       10  \n",
      "322                1        1  \n",
      "382                2        1  \n",
      "365                1        1  \n",
      "510                1        1  \n",
      "\n",
      "[489 rows x 8 columns]\n"
     ]
    }
   ],
   "source": [
    "print(x_train)"
   ]
  },
  {
   "cell_type": "markdown",
   "metadata": {
    "id": "580707emWIl0"
   },
   "source": [
    "SVM Linear"
   ]
  },
  {
   "cell_type": "code",
   "execution_count": 10,
   "metadata": {
    "id": "WswRS2gvWIl0"
   },
   "outputs": [],
   "source": [
    "#Linear Kernel\n",
    "clf=svm.SVC(kernel='linear')"
   ]
  },
  {
   "cell_type": "code",
   "execution_count": 11,
   "metadata": {
    "colab": {
     "base_uri": "https://localhost:8080/"
    },
    "executionInfo": {
     "elapsed": 382,
     "status": "ok",
     "timestamp": 1621559885054,
     "user": {
      "displayName": "Ratnanda Gita Alfitri C0040221",
      "photoUrl": "https://lh3.googleusercontent.com/a-/AOh14Ghx6iCeDOUSnDuNQ81CxxHgqdImWzSAMZFxyg8R=s64",
      "userId": "16266432029073831329"
     },
     "user_tz": -420
    },
    "id": "YfIamrlsJVp3",
    "outputId": "7063469b-b2c9-4b00-e0ec-1afbd2392cc3"
   },
   "outputs": [
    {
     "data": {
      "text/plain": [
       "SVC(C=1.0, cache_size=200, class_weight=None, coef0=0.0,\n",
       "  decision_function_shape='ovr', degree=3, gamma='auto', kernel='linear',\n",
       "  max_iter=-1, probability=False, random_state=None, shrinking=True,\n",
       "  tol=0.001, verbose=False)"
      ]
     },
     "execution_count": 11,
     "metadata": {},
     "output_type": "execute_result"
    }
   ],
   "source": [
    "#Train the model using the training sets\n",
    "clf.fit(x_train, y_train)"
   ]
  },
  {
   "cell_type": "code",
   "execution_count": 12,
   "metadata": {
    "id": "sQuEr-YJJdBI"
   },
   "outputs": [],
   "source": [
    "#Predict the response for the dataset\n",
    "y_pred = clf.predict(x_test)"
   ]
  },
  {
   "cell_type": "code",
   "execution_count": 13,
   "metadata": {
    "colab": {
     "base_uri": "https://localhost:8080/"
    },
    "executionInfo": {
     "elapsed": 368,
     "status": "ok",
     "timestamp": 1621559890106,
     "user": {
      "displayName": "Ratnanda Gita Alfitri C0040221",
      "photoUrl": "https://lh3.googleusercontent.com/a-/AOh14Ghx6iCeDOUSnDuNQ81CxxHgqdImWzSAMZFxyg8R=s64",
      "userId": "16266432029073831329"
     },
     "user_tz": -420
    },
    "id": "CMjsR07wMTqh",
    "outputId": "bc3b814c-5334-4b3e-abed-51432987d552"
   },
   "outputs": [
    {
     "name": "stdout",
     "output_type": "stream",
     "text": [
      "[[127   4]\n",
      " [  3  76]]\n",
      "             precision    recall  f1-score   support\n",
      "\n",
      "          0       0.98      0.97      0.97       131\n",
      "          1       0.95      0.96      0.96        79\n",
      "\n",
      "avg / total       0.97      0.97      0.97       210\n",
      "\n"
     ]
    }
   ],
   "source": [
    "from sklearn.metrics import classification_report, confusion_matrix\n",
    "print(confusion_matrix(y_test,y_pred))\n",
    "print(classification_report(y_test,y_pred))"
   ]
  },
  {
   "cell_type": "markdown",
   "metadata": {
    "id": "ylpuXyyNWIl1"
   },
   "source": [
    "SVM Polinomial Berderajat 3"
   ]
  },
  {
   "cell_type": "code",
   "execution_count": 14,
   "metadata": {
    "id": "ueV7hZWTWIl2"
   },
   "outputs": [],
   "source": [
    "#Polynomial kernel\n",
    "clfpoly = svm.SVC(kernel='poly', degree=3)\n",
    "\n",
    "#Train the model using the training sets\n",
    "clfpoly.fit(x_train, y_train)\n",
    "\n",
    "#Predict the response for test dataset\n",
    "y_predpoly = clfpoly.predict(x_test)"
   ]
  },
  {
   "cell_type": "code",
   "execution_count": 15,
   "metadata": {
    "colab": {
     "base_uri": "https://localhost:8080/"
    },
    "executionInfo": {
     "elapsed": 355,
     "status": "ok",
     "timestamp": 1621559896182,
     "user": {
      "displayName": "Ratnanda Gita Alfitri C0040221",
      "photoUrl": "https://lh3.googleusercontent.com/a-/AOh14Ghx6iCeDOUSnDuNQ81CxxHgqdImWzSAMZFxyg8R=s64",
      "userId": "16266432029073831329"
     },
     "user_tz": -420
    },
    "id": "rICZInfpTlfJ",
    "outputId": "4b74e8f4-dd30-46fd-e8e5-b6ee1d590659"
   },
   "outputs": [
    {
     "name": "stdout",
     "output_type": "stream",
     "text": [
      "[[125   6]\n",
      " [  6  73]]\n",
      "             precision    recall  f1-score   support\n",
      "\n",
      "          0       0.95      0.95      0.95       131\n",
      "          1       0.92      0.92      0.92        79\n",
      "\n",
      "avg / total       0.94      0.94      0.94       210\n",
      "\n"
     ]
    }
   ],
   "source": [
    "from sklearn.metrics import classification_report, confusion_matrix\n",
    "print(confusion_matrix(y_test,y_predpoly))\n",
    "print(classification_report(y_test,y_predpoly))"
   ]
  },
  {
   "cell_type": "markdown",
   "metadata": {},
   "source": [
    "Naive Bayes"
   ]
  },
  {
   "cell_type": "code",
   "execution_count": 16,
   "metadata": {
    "id": "XG_Lh2IvrEDE"
   },
   "outputs": [
    {
     "data": {
      "text/plain": [
       "GaussianNB(priors=None)"
      ]
     },
     "execution_count": 16,
     "metadata": {},
     "output_type": "execute_result"
    }
   ],
   "source": [
    "from sklearn.naive_bayes import GaussianNB\n",
    "nb = GaussianNB()\n",
    "nb.fit(x_train, y_train)"
   ]
  },
  {
   "cell_type": "code",
   "execution_count": 17,
   "metadata": {
    "id": "1KD6IFKjrduz"
   },
   "outputs": [],
   "source": [
    "y_pred = clf.predict(x_test)"
   ]
  },
  {
   "cell_type": "code",
   "execution_count": 18,
   "metadata": {
    "id": "blU59x9yrXHq"
   },
   "outputs": [
    {
     "name": "stdout",
     "output_type": "stream",
     "text": [
      "[[127   4]\n",
      " [  3  76]]\n",
      "             precision    recall  f1-score   support\n",
      "\n",
      "          0       0.98      0.97      0.97       131\n",
      "          1       0.95      0.96      0.96        79\n",
      "\n",
      "avg / total       0.97      0.97      0.97       210\n",
      "\n"
     ]
    }
   ],
   "source": [
    "print(confusion_matrix(y_test,y_pred))\n",
    "print(classification_report(y_test,y_pred))"
   ]
  }
 ],
 "metadata": {
  "colab": {
   "name": "M9 - SVM.ipynb",
   "provenance": []
  },
  "kernelspec": {
   "display_name": "Python 3",
   "language": "python",
   "name": "python3"
  },
  "language_info": {
   "codemirror_mode": {
    "name": "ipython",
    "version": 3
   },
   "file_extension": ".py",
   "mimetype": "text/x-python",
   "name": "python",
   "nbconvert_exporter": "python",
   "pygments_lexer": "ipython3",
   "version": "3.7.0"
  }
 },
 "nbformat": 4,
 "nbformat_minor": 1
}
